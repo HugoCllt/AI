{
    "cells": [
        {
            "cell_type": "code",
            "execution_count": 1,
            "source": [
                "import pandas as pd\n",
                "import numpy as np\n"
            ],
            "outputs": [],
            "metadata": {}
        },
        {
            "cell_type": "code",
            "execution_count": 2,
            "source": [
                "dataset = pd.read_csv('Churn_Modelling.csv')\n",
                "X = dataset.iloc[:, 3:13]\n",
                "y = dataset.iloc[:, 13]"
            ],
            "outputs": [],
            "metadata": {}
        },
        {
            "cell_type": "code",
            "execution_count": 3,
            "source": [
                "# Encode categorical data and scale continuous data\n",
                "from sklearn.preprocessing import OneHotEncoder, StandardScaler\n",
                "from sklearn.compose import make_column_transformer\n",
                "preprocess = make_column_transformer(\n",
                "        (OneHotEncoder(), ['Geography', 'Gender']),\n",
                "        (StandardScaler(), ['CreditScore', 'Age', 'Tenure', 'Balance',\n",
                "                            'NumOfProducts', 'HasCrCard', 'IsActiveMember', \n",
                "                            'EstimatedSalary']))\n",
                "X = preprocess.fit_transform(X)\n",
                "X = np.delete(X, [0,3], 1)"
            ],
            "outputs": [],
            "metadata": {}
        },
        {
            "cell_type": "code",
            "execution_count": 4,
            "source": [
                " # Split in train/test\n",
                "y = y.values\n",
                "from sklearn.model_selection import train_test_split\n",
                "X_train, X_test, y_train, y_test = train_test_split(X, y, test_size = 0.2, random_state = 0)"
            ],
            "outputs": [],
            "metadata": {}
        },
        {
            "cell_type": "code",
            "execution_count": 5,
            "source": [
                "import tensorflow as ts\n",
                "from tensorflow import keras\n",
                "from keras.models import Sequential\n",
                "from keras.layers import Dense\n"
            ],
            "outputs": [],
            "metadata": {}
        },
        {
            "cell_type": "code",
            "execution_count": null,
            "source": [
                "# Initialising the ANN\n",
                "classifier = Sequential()\n",
                "\n",
                "# Adding the input layer and the first hidden layer\n",
                "classifier.add(Dense(units = 6, kernel_initializer = 'uniform', activation = 'relu', input_dim = 11))\n",
                "\n",
                "# Adding the second hidden layer\n",
                "classifier.add(Dense(units = 6, kernel_initializer = 'uniform', activation = 'relu'))\n",
                "\n",
                "# Adding the output layer\n",
                "classifier.add(Dense(units = 1, kernel_initializer = 'uniform', activation = 'sigmoid'))\n",
                "\n",
                "# Compiling the ANN\n",
                "classifier.compile(optimizer = 'adam', loss = 'binary_crossentropy', metrics = ['accuracy'])\n",
                "\n",
                "# Fitting the ANN to the Training set\n",
                "classifier.fit(X_train, y_train, batch_size = 10, epochs = 100)"
            ],
            "outputs": [],
            "metadata": {}
        },
        {
            "cell_type": "code",
            "execution_count": null,
            "source": [
                " # Predicting the Test set results\n",
                "y_pred = classifier.predict(X_test)\n",
                "y_pred = (y_pred > 0.5)"
            ],
            "outputs": [],
            "metadata": {}
        },
        {
            "cell_type": "code",
            "execution_count": null,
            "source": [
                "In [8]:  # Predicting a single new observation\n",
                "\"\"\"Predict if the customer with the following informations will leave the bank:\n",
                "Geography: France\n",
                "Credit Score: 600\n",
                "Gender: Male\n",
                "Age: 40\n",
                "Tenure: 3\n",
                "Balance: 60000\n",
                "Number of Products: 2\n",
                "Has Credit Card: Yes\n",
                "Is Active Member: Yes\n",
                "Estimated Salary: 50000\"\"\"\n",
                "Xnew = pd.DataFrame(data={\n",
                "        'CreditScore': [600], \n",
                "        'Geography': ['France'], \n",
                "        'Gender': ['Male'],\n",
                "        'Age': [40],\n",
                "        'Tenure': [3],\n",
                "        'Balance': [60000],\n",
                "        'NumOfProducts': [2],\n",
                "        'HasCrCard': [1],\n",
                "        'IsActiveMember': [1],\n",
                "        'EstimatedSalary': [50000]})\n",
                "Xnew = preprocess.transform(Xnew)\n",
                "Xnew = np.delete(Xnew, [0,3], 1)\n",
                "new_prediction = classifier.predict(Xnew)\n",
                "new_prediction = (new_prediction > 0.5)"
            ],
            "outputs": [],
            "metadata": {}
        },
        {
            "cell_type": "code",
            "execution_count": null,
            "source": [
                "from sklearn.metrics import confusion_matrix\n",
                "cm = confusion_matrix(y_test, y_pred)\n",
                "print(cm)\n",
                "print((1536+151)/2000)"
            ],
            "outputs": [],
            "metadata": {}
        },
        {
            "cell_type": "code",
            "execution_count": null,
            "source": [
                "from keras.wrappers.scikit_learn import KerasClassifier\n",
                "from sklearn.model_selection import cross_val_score\n",
                "from keras.layers import Dropout\n"
            ],
            "outputs": [],
            "metadata": {}
        },
        {
            "cell_type": "code",
            "execution_count": null,
            "source": [
                "# Evaluate\n",
                "def build_classifier(optimizer):\n",
                "    classifier = Sequential()\n",
                "    classifier.add(Dense(units=6, kernel_initializer='uniform',activation='relu', input_dim=11))\n",
                "    classifier.add(Dropout(rate=0.1))\n",
                "    \n",
                "    classifier.add(Dense(units=6, kernel_initializer='uniform', activation='relu'))\n",
                "    classifier.add(Dropout(rate=0.1))\n",
                "    \n",
                "    classifier.add(Dense(units=1, kernel_initializer='uniform', activation='sigmoid'))\n",
                "    \n",
                "    classifier.compile(optimizer=optimizer,loss='binary_crossentropy', metrics=['accuracy'])\n",
                "    return classifier\n"
            ],
            "outputs": [],
            "metadata": {}
        },
        {
            "cell_type": "code",
            "execution_count": null,
            "source": [
                "# Evaluate\n",
                "\n",
                "classifier = KerasClassifier(\n",
                "    build_fn=build_classifier, batch_size=10, epochs=100)\n",
                "accuracies = cross_val_score(estimator=classifier, X=X_train, y=y_train,\n",
                "                             cv=10, n_jobs=-1)\n",
                "mean = accuracies.mean()\n",
                "variance = accuracies.std()\n",
                "print(mean)\n",
                "print(variance)\n"
            ],
            "outputs": [],
            "metadata": {}
        },
        {
            "cell_type": "code",
            "execution_count": null,
            "source": [
                "# Tune\n",
                "from sklearn.model_selection import GridSearchCV\n",
                "classifier = KerasClassifier(build_fn=build_classifier)\n",
                "parameters = {'batch_size': [25, 32],\n",
                "              'epochs': [100, 500],\n",
                "              'optimizer': ['adam', 'rmsprop']}\n",
                "grid_search = GridSearchCV(estimator=classifier,\n",
                "                           param_grid=parameters,\n",
                "                           scoring='accuracy',\n",
                "                           cv=10)\n",
                "grid_search = grid_search.fit(X_train, y_train)\n",
                "best_parameters = grid_search.best_params_\n",
                "best_accuracy = grid_search.best_score_\n"
            ],
            "outputs": [],
            "metadata": {}
        }
    ],
    "metadata": {
        "orig_nbformat": 4,
        "language_info": {
            "name": "python",
            "version": "3.8.10",
            "mimetype": "text/x-python",
            "codemirror_mode": {
                "name": "ipython",
                "version": 3
            },
            "pygments_lexer": "ipython3",
            "nbconvert_exporter": "python",
            "file_extension": ".py"
        },
        "kernelspec": {
            "name": "python3",
            "display_name": "Python 3.8.10 64-bit ('myenv': conda)"
        },
        "interpreter": {
            "hash": "39ba6fc6a17aa126f371e63065a7a71f35d657de85bbb6225014d4aba7f76ab7"
        }
    },
    "nbformat": 4,
    "nbformat_minor": 2
}