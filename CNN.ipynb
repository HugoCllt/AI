{
 "cells": [
  {
   "cell_type": "code",
   "execution_count": null,
   "source": [
    "# améliorer le modèle :\n",
    "# 1) taille des images\n",
    "# 2) nombre de couches de convolution / pooling plus important\n",
    "# 3) Plus grand nombre d'epochs\n",
    "# 4) ajouter des couches de neurones"
   ],
   "outputs": [],
   "metadata": {}
  },
  {
   "cell_type": "code",
   "execution_count": 1,
   "source": [
    "# Importing libraries\n",
    "from keras.models import Sequential\n",
    "from keras.layers import Conv2D\n",
    "from keras.layers import MaxPooling2D\n",
    "from keras.layers import Flatten\n",
    "from keras.layers import Dense\n",
    "from keras.layers import Dropout\n"
   ],
   "outputs": [],
   "metadata": {}
  },
  {
   "cell_type": "code",
   "execution_count": 2,
   "source": [
    "# Initialising the CNN\n",
    "classifier = Sequential()\n",
    "\n"
   ],
   "outputs": [],
   "metadata": {}
  },
  {
   "cell_type": "code",
   "execution_count": 3,
   "source": [
    "# Step 1 - Convolution\n",
    "classifier.add(Conv2D(32, (3, 3), input_shape=(64, 64, 3), activation='relu'))\n",
    "# Step 2 - Pooling\n",
    "classifier.add(MaxPooling2D(pool_size=(2, 2)))"
   ],
   "outputs": [],
   "metadata": {}
  },
  {
   "cell_type": "code",
   "execution_count": 4,
   "source": [
    "# Convolution & Pooling n2\n",
    "classifier.add(Conv2D(32, (3, 3), activation='relu'))\n",
    "classifier.add(MaxPooling2D(pool_size=(2, 2)))"
   ],
   "outputs": [],
   "metadata": {}
  },
  {
   "cell_type": "code",
   "execution_count": 5,
   "source": [
    "# Convolution & Pooling n3\n",
    "classifier.add(Conv2D(64, (3, 3), activation='relu'))\n",
    "classifier.add(MaxPooling2D(pool_size=(2, 2)))"
   ],
   "outputs": [],
   "metadata": {}
  },
  {
   "cell_type": "code",
   "execution_count": 6,
   "source": [
    "# Convolution & Pooling n4\n",
    "classifier.add(Conv2D(64, (3, 3), activation='relu'))\n",
    "classifier.add(MaxPooling2D(pool_size=(2, 2)))"
   ],
   "outputs": [],
   "metadata": {}
  },
  {
   "cell_type": "code",
   "execution_count": 7,
   "source": [
    "# Step 3 - Flattening\n",
    "classifier.add(Flatten())\n"
   ],
   "outputs": [],
   "metadata": {}
  },
  {
   "cell_type": "code",
   "execution_count": 8,
   "source": [
    "# Step 4 - Full connection\n",
    "classifier.add(Dense(units=128, activation='relu'))\n",
    "classifier.add(Dropout(0.1))\n",
    "\n",
    "classifier.add(Dense(units=128, activation='relu'))\n",
    "classifier.add(Dropout(0.1))\n",
    "\n",
    "classifier.add(Dense(units=128, activation='relu'))\n",
    "classifier.add(Dropout(0.1))\n",
    "\n",
    "\n",
    "\n",
    "classifier.add(Dense(units=1, activation='sigmoid'))\n"
   ],
   "outputs": [],
   "metadata": {}
  },
  {
   "cell_type": "code",
   "execution_count": 9,
   "source": [
    "# Compiling the CNN\n",
    "classifier.compile(\n",
    "    optimizer='adam', loss='binary_crossentropy', metrics=['accuracy'])\n"
   ],
   "outputs": [],
   "metadata": {}
  },
  {
   "cell_type": "code",
   "execution_count": 10,
   "source": [
    "from keras.preprocessing.image import ImageDataGenerator\n"
   ],
   "outputs": [],
   "metadata": {}
  },
  {
   "cell_type": "code",
   "execution_count": 11,
   "source": [
    "train_datagen = ImageDataGenerator(rescale=1./255,\n",
    "                                   shear_range=0.2,\n",
    "                                   zoom_range=0.2,\n",
    "                                   horizontal_flip=True)\n",
    "\n",
    "test_datagen = ImageDataGenerator(rescale=1./255)\n",
    "\n",
    "training_set = train_datagen.flow_from_directory('deeplearning-master/Part 2 - Convolutional_Neural_Networks/dataset/training_set',\n",
    "                                                 target_size=(64, 64),\n",
    "                                                 batch_size=32,\n",
    "                                                 class_mode='binary')\n",
    "\n",
    "test_set = test_datagen.flow_from_directory('deeplearning-master/Part 2 - Convolutional_Neural_Networks/dataset/test_set',\n",
    "                                            target_size=(64, 64),\n",
    "                                            batch_size=32,\n",
    "                                            class_mode='binary')\n"
   ],
   "outputs": [
    {
     "output_type": "stream",
     "name": "stdout",
     "text": [
      "Found 8000 images belonging to 2 classes.\n",
      "Found 2000 images belonging to 2 classes.\n"
     ]
    }
   ],
   "metadata": {}
  },
  {
   "cell_type": "code",
   "execution_count": 12,
   "source": [
    "classifier.fit_generator(training_set,\n",
    "                         steps_per_epoch=250,\n",
    "                         epochs=20,\n",
    "                         validation_data=test_set,\n",
    "                         validation_steps=63)\n"
   ],
   "outputs": [
    {
     "output_type": "stream",
     "name": "stderr",
     "text": [
      "/home/cytech/anaconda3/envs/myenv/lib/python3.8/site-packages/tensorflow/python/keras/engine/training.py:1844: UserWarning: `Model.fit_generator` is deprecated and will be removed in a future version. Please use `Model.fit`, which supports generators.\n",
      "  warnings.warn('`Model.fit_generator` is deprecated and '\n"
     ]
    },
    {
     "output_type": "stream",
     "name": "stdout",
     "text": [
      "Epoch 1/20\n",
      "250/250 [==============================] - 65s 257ms/step - loss: 0.6926 - accuracy: 0.5185 - val_loss: 0.6825 - val_accuracy: 0.5945\n",
      "Epoch 2/20\n",
      "250/250 [==============================] - 60s 238ms/step - loss: 0.6786 - accuracy: 0.5709 - val_loss: 0.6737 - val_accuracy: 0.5815\n",
      "Epoch 3/20\n",
      "250/250 [==============================] - 56s 224ms/step - loss: 0.6387 - accuracy: 0.6446 - val_loss: 0.6547 - val_accuracy: 0.6375\n",
      "Epoch 4/20\n",
      "250/250 [==============================] - 55s 221ms/step - loss: 0.6080 - accuracy: 0.6683 - val_loss: 0.5448 - val_accuracy: 0.7125\n",
      "Epoch 5/20\n",
      "250/250 [==============================] - 60s 241ms/step - loss: 0.5642 - accuracy: 0.7063 - val_loss: 0.5265 - val_accuracy: 0.7400\n",
      "Epoch 6/20\n",
      "250/250 [==============================] - 59s 238ms/step - loss: 0.5417 - accuracy: 0.7278 - val_loss: 0.5094 - val_accuracy: 0.7545\n",
      "Epoch 7/20\n",
      "250/250 [==============================] - 60s 239ms/step - loss: 0.5022 - accuracy: 0.7580 - val_loss: 0.5042 - val_accuracy: 0.7475\n",
      "Epoch 8/20\n",
      "250/250 [==============================] - 59s 237ms/step - loss: 0.4628 - accuracy: 0.7794 - val_loss: 0.4820 - val_accuracy: 0.7845\n",
      "Epoch 9/20\n",
      "250/250 [==============================] - 66s 264ms/step - loss: 0.4651 - accuracy: 0.7748 - val_loss: 0.4372 - val_accuracy: 0.7905\n",
      "Epoch 10/20\n",
      "250/250 [==============================] - 65s 262ms/step - loss: 0.4406 - accuracy: 0.7954 - val_loss: 0.4650 - val_accuracy: 0.7705\n",
      "Epoch 11/20\n",
      "250/250 [==============================] - 59s 236ms/step - loss: 0.4363 - accuracy: 0.7891 - val_loss: 0.4360 - val_accuracy: 0.7980\n",
      "Epoch 12/20\n",
      "250/250 [==============================] - 57s 229ms/step - loss: 0.4082 - accuracy: 0.8168 - val_loss: 0.4387 - val_accuracy: 0.7965\n",
      "Epoch 13/20\n",
      "250/250 [==============================] - 58s 233ms/step - loss: 0.3965 - accuracy: 0.8199 - val_loss: 0.4883 - val_accuracy: 0.7630\n",
      "Epoch 14/20\n",
      "250/250 [==============================] - 58s 233ms/step - loss: 0.3846 - accuracy: 0.8332 - val_loss: 0.3894 - val_accuracy: 0.8265\n",
      "Epoch 15/20\n",
      "250/250 [==============================] - 56s 225ms/step - loss: 0.3692 - accuracy: 0.8336 - val_loss: 0.4094 - val_accuracy: 0.8185\n",
      "Epoch 16/20\n",
      "250/250 [==============================] - 59s 235ms/step - loss: 0.3762 - accuracy: 0.8322 - val_loss: 0.4038 - val_accuracy: 0.8200\n",
      "Epoch 17/20\n",
      "250/250 [==============================] - 59s 234ms/step - loss: 0.3560 - accuracy: 0.8376 - val_loss: 0.3805 - val_accuracy: 0.8345\n",
      "Epoch 18/20\n",
      "250/250 [==============================] - 59s 235ms/step - loss: 0.3466 - accuracy: 0.8428 - val_loss: 0.4340 - val_accuracy: 0.8180\n",
      "Epoch 19/20\n",
      "250/250 [==============================] - 59s 236ms/step - loss: 0.3554 - accuracy: 0.8372 - val_loss: 0.3792 - val_accuracy: 0.8345\n",
      "Epoch 20/20\n",
      "250/250 [==============================] - 59s 237ms/step - loss: 0.3411 - accuracy: 0.8455 - val_loss: 0.3945 - val_accuracy: 0.8250\n"
     ]
    },
    {
     "output_type": "execute_result",
     "data": {
      "text/plain": [
       "<tensorflow.python.keras.callbacks.History at 0x7f576c033b50>"
      ]
     },
     "metadata": {},
     "execution_count": 12
    }
   ],
   "metadata": {}
  },
  {
   "cell_type": "code",
   "execution_count": 14,
   "source": [
    "import numpy as np\n",
    "from keras.preprocessing import image\n",
    "test_image = image.load_img(\n",
    "    'deeplearning-master/Part 2 - Convolutional_Neural_Networks/dataset/single_prediction/chien1.jpeg', target_size=(64, 64))\n",
    "test_image = image.img_to_array(test_image)\n",
    "test_image = np.expand_dims(test_image, axis=0)\n",
    "result = classifier.predict(test_image)\n",
    "training_set.class_indices\n",
    "if result[0][0] == 1:\n",
    "    prediction = 'dog'\n",
    "else:\n",
    "    prediction = 'cat'\n",
    "\n",
    "print(prediction)\n"
   ],
   "outputs": [
    {
     "output_type": "stream",
     "name": "stdout",
     "text": [
      "dog\n"
     ]
    }
   ],
   "metadata": {}
  }
 ],
 "metadata": {
  "orig_nbformat": 4,
  "language_info": {
   "name": "python",
   "version": "3.8.10",
   "mimetype": "text/x-python",
   "codemirror_mode": {
    "name": "ipython",
    "version": 3
   },
   "pygments_lexer": "ipython3",
   "nbconvert_exporter": "python",
   "file_extension": ".py"
  },
  "kernelspec": {
   "name": "python3",
   "display_name": "Python 3.8.10 64-bit ('myenv': conda)"
  },
  "interpreter": {
   "hash": "39ba6fc6a17aa126f371e63065a7a71f35d657de85bbb6225014d4aba7f76ab7"
  }
 },
 "nbformat": 4,
 "nbformat_minor": 2
}